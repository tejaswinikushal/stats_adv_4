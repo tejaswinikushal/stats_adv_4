{
 "cells": [
  {
   "cell_type": "markdown",
   "id": "308664de",
   "metadata": {},
   "source": [
    "#### Q1: What is the difference between a t-test and a z-test? Provide an example scenario where you would use each type of test."
   ]
  },
  {
   "cell_type": "markdown",
   "id": "896ab05e",
   "metadata": {},
   "source": [
    "#### Difference between t-test and z-test:\n",
    "\n",
    "#### T-Test:\n",
    "Used when the population standard deviation is unknown.\n",
    "\n",
    "Typically applied to small sample sizes.\n",
    "\n",
    "Example: Comparing the means of two groups where sample sizes are small.\n",
    "#### Z-Test:\n",
    "Used when the population standard deviation is known.\n",
    "\n",
    "Appropriate for large sample sizes.\n",
    "\n",
    "Example: Testing the mean of a large sample against a known population mean.\n"
   ]
  },
  {
   "cell_type": "markdown",
   "id": "7f737578",
   "metadata": {},
   "source": [
    "#### Q2: Differentiate between one-tailed and two-tailed tests."
   ]
  },
  {
   "cell_type": "markdown",
   "id": "ea48af8b",
   "metadata": {},
   "source": [
    "####  One-tailed vs. Two-tailed tests:\n",
    "\n",
    "#### One-Tailed Test:\n",
    "\n",
    "Tests for a difference in one specific direction (greater or less than).\n",
    "\n",
    "More powerful if the direction of the expected difference is known.\n",
    "\n",
    "Example: Testing if a new drug increases but not decreases blood pressure.\n",
    "#### Two-Tailed Test:\n",
    "\n",
    "Tests for a difference in both directions.\n",
    "\n",
    "Used when the direction of the expected difference is not specified.\n",
    "\n",
    "Example: Testing if a new drug has a different effect on blood pressure."
   ]
  },
  {
   "cell_type": "markdown",
   "id": "b8641fcc",
   "metadata": {},
   "source": [
    "#### Q3: Explain the concept of Type 1 and Type 2 errors in hypothesis testing. Provide an example scenario for each type of error."
   ]
  },
  {
   "cell_type": "markdown",
   "id": "f76847a9",
   "metadata": {},
   "source": [
    "#### Type 1 and Type 2 errors:\n",
    "\n",
    "#### Type 1 Error (False Positive):\n",
    "\n",
    "Incorrectly rejecting a true null hypothesis.\n",
    "\n",
    "Example: Concluding a new drug is effective when it has no actual effect.\n",
    "\n",
    "#### Type 2 Error (False Negative):\n",
    "\n",
    "Failing to reject a false null hypothesis.\n",
    "\n",
    "Example: Concluding a new drug has no effect when it is effective."
   ]
  },
  {
   "cell_type": "markdown",
   "id": "c81057c5",
   "metadata": {},
   "source": [
    "#### Q4: Explain Bayes's theorem with an example."
   ]
  },
  {
   "cell_type": "markdown",
   "id": "94507094",
   "metadata": {},
   "source": [
    "#### Q4: Bayes's Theorem:\n",
    "\n",
    "Bayes's Theorem:\n",
    "\n",
    "P(A∣B)= [P(B∣A)⋅P(A)]/p(A).\n",
    "\n",
    "P(A∣B): Probability of event A given B.\n",
    "\n",
    "P(B∣A): Probability of event B given A.\n",
    "\n",
    "P(A): Prior probability of A.\n",
    "\n",
    "P(B): Prior probability of B."
   ]
  },
  {
   "cell_type": "markdown",
   "id": "4b450a5b",
   "metadata": {},
   "source": [
    "#### Q5: What is a confidence interval? How to calculate the confidence interval, explain with an example."
   ]
  },
  {
   "cell_type": "markdown",
   "id": "12d8368b",
   "metadata": {},
   "source": [
    "Confidence Interval:\n",
    "\n",
    "Definition:\n",
    "A range of values that likely contains the true population parameter.\n",
    "\n",
    "Confidence Interval= x_bar +- Z(s/srt(n)).\n",
    "\n",
    "Example: A 95% confidence interval for the population mean."
   ]
  },
  {
   "cell_type": "markdown",
   "id": "ddd283b0",
   "metadata": {},
   "source": [
    "#### Q6. Use Bayes' Theorem to calculate the probability of an event occurring given prior knowledge of the event's probability and new evidence. Provide a sample problem and solution."
   ]
  },
  {
   "cell_type": "markdown",
   "id": "d2994c20",
   "metadata": {},
   "source": [
    "#### Bayes' Theorem Calculation:\n",
    "\n",
    "Example:\n",
    "#### Prior probability of having a disease: \n",
    "P(D)=0.01\n",
    "#### Sensitivity (true positive rate): \n",
    "P(Pos∣D)=0.95\n",
    "\n",
    "Specificity (true negative rate P(Neg∣¬D)=0.90\n",
    "#### New evidence (positive test result): \n",
    "\n",
    "P(Pos)=P(Pos∣D)⋅P(D)+P(Pos∣¬D)⋅P(¬D)\n",
    "#### Posterior probability of having the disease given a positive test result: \n",
    "P(D∣Pos)= [P(Pos∣D)⋅P(D)]/P(pos)\n"
   ]
  },
  {
   "cell_type": "markdown",
   "id": "3c7bc09a",
   "metadata": {},
   "source": [
    "#### Q7. Calculate the 95% confidence interval for a sample of data with a mean of 50 and a standard deviation of 5. Interpret the results."
   ]
  },
  {
   "cell_type": "markdown",
   "id": "d39ebabb",
   "metadata": {},
   "source": [
    "#### 95% Confidence Interval Calculation:\n",
    "\n",
    "Example:\n",
    "Mean (X): 50\n",
    "\n",
    "Standard Deviation (s): 5\n",
    "\n",
    "Sample Size (n): (Assume a sufficiently large sample size)"
   ]
  },
  {
   "cell_type": "code",
   "execution_count": 1,
   "id": "fa0d335c",
   "metadata": {},
   "outputs": [
    {
     "name": "stdout",
     "output_type": "stream",
     "text": [
      "95% Confidence Interval: (49.02001800772997, 50.97998199227003)\n"
     ]
    }
   ],
   "source": [
    "import scipy.stats as stats\n",
    "import math\n",
    "\n",
    "sample_mean = 50\n",
    "sample_std = 5\n",
    "confidence_level = 0.95  # For 95% confidence level\n",
    "\n",
    "z_score = stats.norm.ppf((1 + confidence_level) / 2)\n",
    "\n",
    "# If sample size is known, replace it here. Otherwise, use a large assumed value.\n",
    "sample_size = 100\n",
    "\n",
    "# Confidence Interval calculation\n",
    "margin_of_error = z_score * (sample_std / math.sqrt(sample_size))\n",
    "confidence_interval = (sample_mean - margin_of_error, sample_mean + margin_of_error)\n",
    "\n",
    "print(f\"95% Confidence Interval: {confidence_interval}\")\n"
   ]
  },
  {
   "cell_type": "markdown",
   "id": "b45aa9ad",
   "metadata": {},
   "source": [
    "#### Q8. What is the margin of error in a confidence interval? How does sample size affect the margin of error? Provide an example of a scenario where a larger sample size would result in a smaller margin of error."
   ]
  },
  {
   "cell_type": "markdown",
   "id": "747d1c8e",
   "metadata": {},
   "source": [
    "#### Margin of Error and Sample Size:\n",
    "\n",
    "#### Margin of Error:\n",
    "A measure of the uncertainty in estimating a population parameter.\n",
    "#### Sample Size Effect:\n",
    "Larger sample sizes result in smaller margins of error.\n",
    "#### Example:\n",
    "        A poll with a larger sample size provides a more precise estimate of the true population proportion."
   ]
  },
  {
   "cell_type": "markdown",
   "id": "74e7f5a3",
   "metadata": {},
   "source": [
    "#### Q9. Calculate the z-score for a data point with a value of 75, a population mean of 70, and a population standard deviation of 5. Interpret the results.\n"
   ]
  },
  {
   "cell_type": "markdown",
   "id": "e82f7ca7",
   "metadata": {},
   "source": [
    "#### Z-Score Calculation:\n",
    "\n",
    "Example:\n",
    "\n",
    "Data Point Value (X): 75\n",
    "\n",
    "Population Mean (μ): 70\n",
    "\n",
    "Population Standard Deviation (σ): 5"
   ]
  },
  {
   "cell_type": "code",
   "execution_count": 2,
   "id": "990f79ab",
   "metadata": {},
   "outputs": [
    {
     "name": "stdout",
     "output_type": "stream",
     "text": [
      "Z-Score: 1.0\n"
     ]
    }
   ],
   "source": [
    "data_point = 75\n",
    "population_mean = 70\n",
    "population_std = 5\n",
    "\n",
    "z_score = (data_point - population_mean) / population_std\n",
    "\n",
    "print(f\"Z-Score: {z_score}\")\n"
   ]
  },
  {
   "cell_type": "markdown",
   "id": "4085745a",
   "metadata": {},
   "source": [
    "#### Q10. In a study of the effectiveness of a new weight loss drug, a sample of 50 participants lost an average of 6 pounds with a standard deviation of 2.5 pounds. Conduct a hypothesis test to determine if the drug is significantly effective at a 95% confidence level using a t-test."
   ]
  },
  {
   "cell_type": "markdown",
   "id": "bf3fe7f4",
   "metadata": {},
   "source": [
    "#### Hypothesis Test for Weight Loss Drug:\n",
    "\n",
    "Example:\n",
    "\n",
    "Sample Mean: 6\n",
    "\n",
    "Sample Standard Deviation: 2.5\n",
    "\n",
    "Sample Size: 50\n",
    "\n",
    "Hypothesized Mean: 0 (no effect)"
   ]
  },
  {
   "cell_type": "code",
   "execution_count": 4,
   "id": "89141c49",
   "metadata": {},
   "outputs": [
    {
     "name": "stdout",
     "output_type": "stream",
     "text": [
      "Reject the null hypothesis\n",
      "T-Statistic: 16.970562748477143\n",
      "Critical T-Value: 2.009575234489209\n"
     ]
    }
   ],
   "source": [
    "from scipy import stats\n",
    "import math\n",
    "\n",
    "sample_mean = 6\n",
    "sample_std = 2.5\n",
    "sample_size = 50\n",
    "hypothesized_mean = 0  # Null hypothesis\n",
    "\n",
    "# Calculate the t-statistic\n",
    "t_statistic = (sample_mean - hypothesized_mean) / (sample_std / math.sqrt(sample_size))\n",
    "\n",
    "# Degrees of freedom for a two-tailed test\n",
    "degrees_of_freedom = sample_size - 1\n",
    "\n",
    "# Two-tailed critical t-value for a 95% confidence level\n",
    "alpha = 0.05\n",
    "critical_t_value = stats.t.ppf(1 - alpha/2, degrees_of_freedom)\n",
    "\n",
    "# Decision Rule\n",
    "if abs(t_statistic) > critical_t_value:\n",
    "    print(\"Reject the null hypothesis\")\n",
    "else:\n",
    "    print(\"Fail to reject the null hypothesis\")\n",
    "\n",
    "print(\"T-Statistic:\", t_statistic)\n",
    "print(\"Critical T-Value:\", critical_t_value)\n"
   ]
  },
  {
   "cell_type": "markdown",
   "id": "11b39f13",
   "metadata": {},
   "source": [
    "#### Q11. In a survey of 500 people, 65% reported being satisfied with their current job. Calculate the 95% confidence interval for the true proportion of people who are satisfied with their job."
   ]
  },
  {
   "cell_type": "code",
   "execution_count": 5,
   "id": "802a3257",
   "metadata": {},
   "outputs": [
    {
     "name": "stdout",
     "output_type": "stream",
     "text": [
      "95% Confidence Interval: (0.6081925393809212, 0.6918074606190788)\n"
     ]
    }
   ],
   "source": [
    "import scipy.stats as stats\n",
    "import math\n",
    "\n",
    "\n",
    "sample_proportion = 0.65\n",
    "sample_size = 500\n",
    "confidence_level = 0.95\n",
    "\n",
    "z_score = stats.norm.ppf((1 + confidence_level) / 2)\n",
    "\n",
    "margin_of_error = z_score * math.sqrt((sample_proportion * (1 - sample_proportion)) / sample_size)\n",
    "confidence_interval = (sample_proportion - margin_of_error, sample_proportion + margin_of_error)\n",
    "\n",
    "print(f\"95% Confidence Interval: {confidence_interval}\")\n"
   ]
  },
  {
   "cell_type": "markdown",
   "id": "fe715964",
   "metadata": {},
   "source": [
    "#### Q12. A researcher is testing the effectiveness of two different teaching methods on student performance.Sample A has a mean score of 85 with a standard deviation of 6, while sample B has a mean score of 82 with a standard deviation of 5. Conduct a hypothesis test to determine if the two teaching methods have a significant difference in student performance using a t-test with a significance level of 0.01."
   ]
  },
  {
   "cell_type": "code",
   "execution_count": 7,
   "id": "97eebd6a",
   "metadata": {},
   "outputs": [
    {
     "name": "stdout",
     "output_type": "stream",
     "text": [
      "Fail to reject the null hypothesis\n",
      "T-Statistic: 2.1038606199548298\n",
      "Critical T-Value: 2.6665123975560627\n"
     ]
    }
   ],
   "source": [
    "import scipy.stats as stats\n",
    "import math\n",
    "\n",
    "# Given data\n",
    "mean_A = 85\n",
    "std_A = 6\n",
    "n_A = 30\n",
    "mean_B = 82\n",
    "std_B = 5\n",
    "n_B =  30\n",
    "alpha = 0.01\n",
    "\n",
    "t_statistic = (mean_A - mean_B) / math.sqrt((std_A**2 / n_A) + (std_B**2 / n_B))\n",
    "\n",
    "degrees_of_freedom = int(((std_A**2 / n_A + std_B**2 / n_B)**2) / (((std_A**2 / n_A)**2) / (n_A - 1) + ((std_B**2 / n_B)**2) / (n_B - 1)))\n",
    "\n",
    "\n",
    "critical_t_value = stats.t.ppf(1 - alpha / 2, degrees_of_freedom)\n",
    "\n",
    "if abs(t_statistic) > critical_t_value:\n",
    "    print(\"Reject the null hypothesis\")\n",
    "else:\n",
    "    print(\"Fail to reject the null hypothesis\")\n",
    "\n",
    "print(\"T-Statistic:\", t_statistic)\n",
    "print(\"Critical T-Value:\", critical_t_value)\n"
   ]
  },
  {
   "cell_type": "markdown",
   "id": "3ed9a52c",
   "metadata": {},
   "source": [
    "#### Q13. A population has a mean of 60 and a standard deviation of 8. A sample of 50 observations has a mean of 65. Calculate the 90% confidence interval for the true population mean."
   ]
  },
  {
   "cell_type": "code",
   "execution_count": 8,
   "id": "7fa8e920",
   "metadata": {},
   "outputs": [
    {
     "name": "stdout",
     "output_type": "stream",
     "text": [
      "90% Confidence Interval: (63.13906055411732, 66.86093944588268)\n"
     ]
    }
   ],
   "source": [
    "import scipy.stats as stats\n",
    "import math\n",
    "\n",
    "sample_mean = 65\n",
    "population_mean = 60\n",
    "population_std = 8\n",
    "sample_size = 50\n",
    "confidence_level = 0.90\n",
    "\n",
    "# Z-score for 90% confidence level\n",
    "z_score = stats.norm.ppf((1 + confidence_level) / 2)\n",
    "\n",
    "\n",
    "margin_of_error = z_score * (population_std / math.sqrt(sample_size))\n",
    "confidence_interval = (sample_mean - margin_of_error, sample_mean + margin_of_error)\n",
    "\n",
    "print(f\"90% Confidence Interval: {confidence_interval}\")\n"
   ]
  },
  {
   "cell_type": "markdown",
   "id": "1c854b8f",
   "metadata": {},
   "source": [
    "#### Q14. In a study of the effects of caffeine on reaction time, a sample of 30 participants had an average reaction time of 0.25 seconds with a standard deviation of 0.05 seconds. Conduct a hypothesis test to determine if the caffeine has a significant effect on reaction time at a 90% confidence level using a t-test."
   ]
  },
  {
   "cell_type": "code",
   "execution_count": 9,
   "id": "34f9be6e",
   "metadata": {},
   "outputs": [
    {
     "name": "stdout",
     "output_type": "stream",
     "text": [
      "Reject the null hypothesis\n",
      "T-Statistic: 27.386127875258307\n",
      "Critical T-Value: 1.6991270265334972\n"
     ]
    }
   ],
   "source": [
    "import scipy.stats as stats\n",
    "import math\n",
    "\n",
    "# Given data\n",
    "sample_mean = 0.25\n",
    "sample_std = 0.05\n",
    "sample_size = 30\n",
    "hypothesized_mean = 0  # Null hypothesis\n",
    "confidence_level = 0.90\n",
    "\n",
    "t_statistic = (sample_mean - hypothesized_mean) / (sample_std / math.sqrt(sample_size))\n",
    "\n",
    "degrees_of_freedom = sample_size - 1\n",
    "\n",
    "critical_t_value = stats.t.ppf(1 - (1 - confidence_level) / 2, degrees_of_freedom)\n",
    "\n",
    "if abs(t_statistic) > critical_t_value:\n",
    "    print(\"Reject the null hypothesis\")\n",
    "else:\n",
    "    print(\"Fail to reject the null hypothesis\")\n",
    "\n",
    "print(\"T-Statistic:\", t_statistic)\n",
    "print(\"Critical T-Value:\", critical_t_value)\n"
   ]
  },
  {
   "cell_type": "code",
   "execution_count": null,
   "id": "529cfc54",
   "metadata": {},
   "outputs": [],
   "source": []
  }
 ],
 "metadata": {
  "kernelspec": {
   "display_name": "Python 3 (ipykernel)",
   "language": "python",
   "name": "python3"
  },
  "language_info": {
   "codemirror_mode": {
    "name": "ipython",
    "version": 3
   },
   "file_extension": ".py",
   "mimetype": "text/x-python",
   "name": "python",
   "nbconvert_exporter": "python",
   "pygments_lexer": "ipython3",
   "version": "3.11.2"
  }
 },
 "nbformat": 4,
 "nbformat_minor": 5
}
